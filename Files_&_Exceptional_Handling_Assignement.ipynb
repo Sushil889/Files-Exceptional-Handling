{
  "nbformat": 4,
  "nbformat_minor": 0,
  "metadata": {
    "colab": {
      "provenance": []
    },
    "kernelspec": {
      "name": "python3",
      "display_name": "Python 3"
    },
    "language_info": {
      "name": "python"
    }
  },
  "cells": [
    {
      "cell_type": "code",
      "execution_count": null,
      "metadata": {
        "id": "nNhI8hnGeAkD"
      },
      "outputs": [],
      "source": [
        "# Read all the answers of given questions"
      ]
    },
    {
      "cell_type": "code",
      "source": [
        "# 1. Discuss the scenarios where multithreading is preferable to multiprocessing and scenarios where multiprocessing is a better choice.\n",
        "# Ans.Multithreading is preferable when:\n",
        "# - Tasks are I/O-bound (e.g., waiting for file input/output, network requests).\n",
        "# - The program requires shared memory or data (since threads share the same memory space).\n",
        "# - Lightweight concurrency is needed without significant overhead (less memory usage than processes).\n",
        "\n",
        "#   Multiprocessing is better when:\n",
        "# - Tasks are CPU-bound (e.g., complex computations, data processing).\n",
        "# - The program needs parallelism across multiple cores (processes run independently on different cores).\n",
        "# - Avoiding issues related to the Global Interpreter Lock (GIL) in Python for CPU-bound tasks."
      ],
      "metadata": {
        "id": "48lT4GMweZ7M"
      },
      "execution_count": null,
      "outputs": []
    },
    {
      "cell_type": "code",
      "source": [
        "# 2. Describe what a process pool is and how it helps in managing multiple processes efficiently.\n",
        "# Ans. Multithreading is preferable when:\n",
        "# - Tasks are I/O-bound (e.g., waiting for file input/output, network requests).\n",
        "# - The program requires shared memory or data (since threads share the same memory space).\n",
        "# - Lightweight concurrency is needed without significant overhead (less memory usage than processes).\n",
        "\n",
        "# **Multiprocessing** is better when:\n",
        "# - Tasks are CPU-bound (e.g., complex computations, data processing).\n",
        "# - The program needs parallelism across multiple cores (processes run independently on different cores).\n",
        "# - Avoiding issues related to the Global Interpreter Lock (GIL) in Python for CPU-bound tasks."
      ],
      "metadata": {
        "id": "H9kENxUefTU7"
      },
      "execution_count": null,
      "outputs": []
    },
    {
      "cell_type": "code",
      "source": [
        "# 3. Explain what multiprocessing is and why it is used in Python programs.\n",
        "# Ans. Multiprocessing is a technique used to run multiple processes concurrently, allowing a program to perform several tasks in parallel. Each process has its own memory space and runs independently, making it suitable for\n",
        "# CPU-bound tasks that require a lot of computation.\n",
        "\n",
        "# In Python, multiprocessing is used to:\n",
        "# - Achieve true parallelism by bypassing the Global Interpreter Lock (GIL), which limits threads to one CPU core at a time.\n",
        "# - Enhance performance in CPU-intensive operations by utilizing multiple cores.\n",
        "# - Improve efficiency when performing tasks like data processing, computations, or simulations that benefit from concurrent execution."
      ],
      "metadata": {
        "id": "g9n4C6oNf31p"
      },
      "execution_count": null,
      "outputs": []
    },
    {
      "cell_type": "code",
      "source": [
        "# 4. Write a Python program using multithreading where one thread adds numbers to a list, and another thread removes numbers from the list. Implement a mechanism to avoid race conditions using threading.Lock.\n",
        "# Ans.\n",
        "import threading\n",
        "import time\n",
        "\n",
        "# Shared list and lock\n",
        "numbers_list = []\n",
        "list_lock = threading.Lock()\n",
        "\n",
        "# Function to add numbers to the list\n",
        "def add_to_list():\n",
        "    for i in range(1, 6):\n",
        "        time.sleep(1)  # Simulate time delay\n",
        "        with list_lock:\n",
        "            numbers_list.append(i)\n",
        "            print(f\"Added {i} to the list. List: {numbers_list}\")\n",
        "\n",
        "# Function to remove numbers from the list\n",
        "def remove_from_list():\n",
        "    for _ in range(1, 6):\n",
        "        time.sleep(1.5)  # Simulate time delay\n",
        "        with list_lock:\n",
        "            if numbers_list:\n",
        "                removed = numbers_list.pop(0)\n",
        "                print(f\"Removed {removed} from the list. List: {numbers_list}\")\n",
        "\n",
        "# Creating threads\n",
        "add_thread = threading.Thread(target=add_to_list)\n",
        "remove_thread = threading.Thread(target=remove_from_list)\n",
        "\n",
        "# Starting threads\n",
        "add_thread.start()\n",
        "remove_thread.start()\n",
        "\n",
        "# Waiting for both threads to complete\n",
        "add_thread.join()\n",
        "remove_thread.join()\n",
        "\n",
        "print(\"Final list:\", numbers_list)"
      ],
      "metadata": {
        "colab": {
          "base_uri": "https://localhost:8080/"
        },
        "id": "2k83mAsZgkxK",
        "outputId": "4fbdf13d-5c49-4ca9-cb51-3ee6339de943"
      },
      "execution_count": 2,
      "outputs": [
        {
          "output_type": "stream",
          "name": "stdout",
          "text": [
            "Added 1 to the list. List: [1]\n",
            "Removed 1 from the list. List: []\n",
            "Added 2 to the list. List: [2]\n",
            "Added 3 to the list. List: [2, 3]\n",
            "Removed 2 from the list. List: [3]\n",
            "Added 4 to the list. List: [3, 4]\n",
            "Removed 3 from the list. List: [4]\n",
            "Added 5 to the list. List: [4, 5]\n",
            "Removed 4 from the list. List: [5]\n",
            "Removed 5 from the list. List: []\n",
            "Final list: []\n"
          ]
        }
      ]
    },
    {
      "cell_type": "code",
      "source": [
        "# 5. Describe the methods and tools available in Python for safely sharing data between threads and processes.\n",
        "# Ans. In Python, several methods and tools ensure safe data sharing between threads and processes:\n",
        "\n",
        "### **For Threads (via `threading` module):**\n",
        "# 1. **`Lock`**: Ensures only one thread accesses shared data at a time, preventing race conditions.\n",
        "# 2. **`RLock`**: A re-entrant lock allowing the same thread to acquire it multiple times.\n",
        "# 3. **`Condition`**: Combines a lock and a condition variable, enabling threads to wait until a specific condition is met.\n",
        "# 4. **`Semaphore`**: Limits the number of threads that can access a resource simultaneously.\n",
        "# 5. **`Queue`**: Thread-safe FIFO queue that manages data exchange between threads without explicit locking.\n",
        "\n",
        "### **For Processes (via `multiprocessing` module):**\n",
        "# 1. **`Queue`**: Allows safe communication between processes by storing data that can be shared across process boundaries.\n",
        "# 2. **`Pipe`**: A two-way communication channel between two processes.\n",
        "# 3. **`Manager`**: Provides a way to share objects like lists, dictionaries, etc., across processes.\n",
        "# 4. **`Value` and `Array`**: Shared memory for synchronizing simple data types and arrays between processes."
      ],
      "metadata": {
        "id": "dtqVxm35g3pO"
      },
      "execution_count": null,
      "outputs": []
    },
    {
      "cell_type": "code",
      "source": [
        "# 6. Discuss why it’s crucial to handle exceptions in concurrent programs and the techniques available for doing so.\n",
        "# Ans. Handling exceptions in concurrent programs is crucial because unhandled exceptions in one thread or process can lead to unpredictable behavior, such as data corruption, deadlocks, or crashing the entire program. Proper\n",
        "# exception handling ensures stability, helps identify issues early, and allows for graceful recovery or cleanup.\n",
        "\n",
        "### Techniques for handling exceptions in concurrent programs:\n",
        "# 1. **Try-except blocks**: Wrapping code in try-except ensures exceptions are caught within threads or processes, allowing safe handling.\n",
        "# 2. **Thread and Process APIs**: Use methods like `threading.Thread.join()` or `multiprocessing.Process.join()` to detect and propagate exceptions back to the main thread or process.\n",
        "# 3. **Queues for Exception Propagation**: Pass exceptions from threads/processes to the main thread using thread-safe queues.\n",
        "# 4. **Timeouts**: Set timeouts for thread/process operations to prevent hanging due to unhandled exceptions.\n",
        "# 5. **Thread/Process Pools**: In `concurrent.futures` (e.g., `ThreadPoolExecutor`, `ProcessPoolExecutor`), exceptions are automatically captured and propagated when retrieving results with `future.result()`."
      ],
      "metadata": {
        "id": "HUo1QJHmhgWZ"
      },
      "execution_count": null,
      "outputs": []
    },
    {
      "cell_type": "code",
      "source": [
        "# 7. Create a program that uses a thread pool to calculate the factorial of numbers from 1 to 10 concurrently. Use concurrent.futures.ThreadPoolExecutor to manage the threads.\n",
        "import concurrent.futures\n",
        "import math\n",
        "\n",
        "# Function to calculate factorial\n",
        "def calculate_factorial(n):\n",
        "    return math.factorial(n)\n",
        "\n",
        "# Main function\n",
        "def main():\n",
        "    numbers = range(1, 11)\n",
        "\n",
        "    # Using ThreadPoolExecutor to manage threads\n",
        "    with concurrent.futures.ThreadPoolExecutor(max_workers=10) as executor:\n",
        "        # Submit tasks to the thread pool\n",
        "        futures = {executor.submit(calculate_factorial, num): num for num in numbers}\n",
        "\n",
        "        # Retrieve and print results\n",
        "        for future in concurrent.futures.as_completed(futures):\n",
        "            num = futures[future]\n",
        "            try:\n",
        "                result = future.result()\n",
        "                print(f\"Factorial of {num} is {result}\")\n",
        "            except Exception as e:\n",
        "                print(f\"Exception occurred for number {num}: {e}\")\n",
        "\n",
        "if __name__ == \"__main__\":\n",
        "    main()"
      ],
      "metadata": {
        "colab": {
          "base_uri": "https://localhost:8080/"
        },
        "id": "ufeHcgy-iBYx",
        "outputId": "15872fee-bfd0-4a34-b13c-f9c074434e5f"
      },
      "execution_count": 3,
      "outputs": [
        {
          "output_type": "stream",
          "name": "stdout",
          "text": [
            "Factorial of 10 is 3628800\n",
            "Factorial of 4 is 24\n",
            "Factorial of 1 is 1\n",
            "Factorial of 2 is 2\n",
            "Factorial of 6 is 720\n",
            "Factorial of 3 is 6\n",
            "Factorial of 8 is 40320\n",
            "Factorial of 5 is 120\n",
            "Factorial of 9 is 362880\n",
            "Factorial of 7 is 5040\n"
          ]
        }
      ]
    },
    {
      "cell_type": "code",
      "source": [
        "# 8. Create a Python program that uses multiprocessing.Pool to compute the square of numbers from 1 to 10 in parallel. Measure the time taken to perform this computation using a pool of different sizes (e.g., 2, 4, 8 processes)\n",
        "import multiprocessing\n",
        "import time\n",
        "\n",
        "def square_number(n):\n",
        "    return n * n\n",
        "\n",
        "def measure_time(pool_size):\n",
        "    start_time = time.time()\n",
        "\n",
        "    # Create a pool with the specified number of processes\n",
        "    with multiprocessing.Pool(processes=pool_size) as pool:\n",
        "        # Map the function to the range of numbers\n",
        "        results = pool.map(square_number, range(1, 11))\n",
        "\n",
        "    end_time = time.time()\n",
        "    duration = end_time - start_time\n",
        "    return results, duration\n",
        "\n",
        "def main():\n",
        "    pool_sizes = [2, 4, 8]\n",
        "    for size in pool_sizes:\n",
        "        print(f\"Using pool size: {size}\")\n",
        "        results, duration = measure_time(size)\n",
        "        print(f\"Results: {results}\")\n",
        "        print(f\"Time taken: {duration:.4f} seconds\\n\")\n",
        "\n",
        "if __name__ == \"__main__\":\n",
        "    main()"
      ],
      "metadata": {
        "colab": {
          "base_uri": "https://localhost:8080/"
        },
        "id": "Ow5WtKlIiNyN",
        "outputId": "194ef19b-13cc-47ab-84b3-fb9029f9d470"
      },
      "execution_count": 4,
      "outputs": [
        {
          "output_type": "stream",
          "name": "stdout",
          "text": [
            "Using pool size: 2\n",
            "Results: [1, 4, 9, 16, 25, 36, 49, 64, 81, 100]\n",
            "Time taken: 0.0411 seconds\n",
            "\n",
            "Using pool size: 4\n",
            "Results: [1, 4, 9, 16, 25, 36, 49, 64, 81, 100]\n",
            "Time taken: 0.0397 seconds\n",
            "\n",
            "Using pool size: 8\n",
            "Results: [1, 4, 9, 16, 25, 36, 49, 64, 81, 100]\n",
            "Time taken: 0.0879 seconds\n",
            "\n"
          ]
        }
      ]
    },
    {
      "cell_type": "code",
      "source": [],
      "metadata": {
        "id": "Micla7R4ifb0"
      },
      "execution_count": null,
      "outputs": []
    }
  ]
}